{
  "nbformat": 4,
  "nbformat_minor": 0,
  "metadata": {
    "colab": {
      "provenance": []
    },
    "kernelspec": {
      "name": "python3",
      "display_name": "Python 3"
    },
    "language_info": {
      "name": "python"
    }
  },
  "cells": [
    {
      "cell_type": "code",
      "execution_count": 1,
      "metadata": {
        "colab": {
          "base_uri": "https://localhost:8080/"
        },
        "id": "1UOJf2bQ0XpS",
        "outputId": "4dc116ea-4e4f-4d98-a6b4-c25422dea597"
      },
      "outputs": [
        {
          "output_type": "stream",
          "name": "stdout",
          "text": [
            "Collecting pulp\n",
            "  Downloading pulp-3.2.1-py3-none-any.whl.metadata (6.9 kB)\n",
            "Downloading pulp-3.2.1-py3-none-any.whl (16.4 MB)\n",
            "\u001b[2K   \u001b[90m━━━━━━━━━━━━━━━━━━━━━━━━━━━━━━━━━━━━━━━━\u001b[0m \u001b[32m16.4/16.4 MB\u001b[0m \u001b[31m77.7 MB/s\u001b[0m eta \u001b[36m0:00:00\u001b[0m\n",
            "\u001b[?25hInstalling collected packages: pulp\n",
            "Successfully installed pulp-3.2.1\n"
          ]
        }
      ],
      "source": [
        "!pip install pulp\n"
      ]
    },
    {
      "cell_type": "code",
      "source": [
        "from pulp import LpMaximize, LpProblem, LpVariable, value\n",
        "\n",
        "# Create the problem\n",
        "model = LpProblem(name=\"factory-production\", sense=LpMaximize)\n",
        "\n",
        "# Define decision variables\n",
        "x1 = LpVariable(name=\"P1_units\", lowBound=0, cat='Integer')\n",
        "x2 = LpVariable(name=\"P2_units\", lowBound=0, cat='Integer')\n",
        "\n",
        "# Objective function\n",
        "model += 60 * x1 + 90 * x2, \"Total_Profit\"\n",
        "\n",
        "# Constraints\n",
        "model += 3 * x1 + 4 * x2 <= 240, \"Machine_A\"\n",
        "model += 2 * x1 + 3 * x2 <= 180, \"Machine_B\"\n",
        "\n",
        "# Solve\n",
        "model.solve()\n",
        "\n",
        "# Output\n",
        "print(\"Status:\", model.status)\n",
        "print(\"P1 Units:\", x1.value())\n",
        "print(\"P2 Units:\", x2.value())\n",
        "print(\"Max Profit: ₹\", value(model.objective))\n"
      ],
      "metadata": {
        "colab": {
          "base_uri": "https://localhost:8080/"
        },
        "id": "KgNfhwON0rxB",
        "outputId": "35815259-f80e-4564-a02d-76fd06f25f6a"
      },
      "execution_count": 2,
      "outputs": [
        {
          "output_type": "stream",
          "name": "stdout",
          "text": [
            "Status: 1\n",
            "P1 Units: 0.0\n",
            "P2 Units: 60.0\n",
            "Max Profit: ₹ 5400.0\n"
          ]
        }
      ]
    },
    {
      "cell_type": "markdown",
      "source": [
        "### 🧠 Business Problem\n",
        "Optimize production of P1 and P2 to maximize profit under machine constraints.\n",
        "\n",
        "### ✅ Output Explanation\n",
        "- P1 Units = 0.0\n",
        "- P2 Units = 0.0\n",
        "- Max Profit = ₹ 5400.0"
      ],
      "metadata": {
        "id": "-rLGT8X60xdo"
      }
    }
  ]
}