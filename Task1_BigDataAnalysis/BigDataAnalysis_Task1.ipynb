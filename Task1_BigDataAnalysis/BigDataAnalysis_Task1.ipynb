{
  "nbformat": 4,
  "nbformat_minor": 0,
  "metadata": {
    "colab": {
      "provenance": []
    },
    "kernelspec": {
      "name": "python3",
      "display_name": "Python 3"
    },
    "language_info": {
      "name": "python"
    }
  },
  "cells": [
    {
      "cell_type": "code",
      "execution_count": null,
      "metadata": {
        "colab": {
          "base_uri": "https://localhost:8080/"
        },
        "id": "9gwxEU032kKv",
        "outputId": "7a3b9222-044e-4c22-a336-dce0af3e4454"
      },
      "outputs": [
        {
          "output_type": "stream",
          "name": "stdout",
          "text": [
            "Requirement already satisfied: pyspark in /usr/local/lib/python3.11/dist-packages (3.5.1)\n",
            "Requirement already satisfied: py4j==0.10.9.7 in /usr/local/lib/python3.11/dist-packages (from pyspark) (0.10.9.7)\n"
          ]
        }
      ],
      "source": [
        "!pip install pyspark\n"
      ]
    },
    {
      "cell_type": "code",
      "source": [
        "from pyspark.sql import SparkSession\n",
        "\n",
        "# Start Spark\n",
        "spark = SparkSession.builder.appName(\"BigDataAnalysis\").getOrCreate()\n",
        "\n",
        "# Load your_file.csv\n",
        "df = spark.read.csv(\"/content/your_file.csv\", header=True, inferSchema=True)\n",
        "\n",
        "# Show first 5 rows\n",
        "df.show(5)\n"
      ],
      "metadata": {
        "colab": {
          "base_uri": "https://localhost:8080/"
        },
        "id": "zAvmJWTLWq_7",
        "outputId": "06dc7562-e0e2-47bf-a1e7-9bd945c7056a"
      },
      "execution_count": 2,
      "outputs": [
        {
          "output_type": "stream",
          "name": "stdout",
          "text": [
            "+------+---+---+-------+-------+-------+----+----+-------+--------+------+--------+----------+---------+--------+---------+------+----+----------+-------+------+--------+--------+------+--------+-----+----+----+------+--------+------+\n",
            "|school|sex|age|address|famsize|Pstatus|Medu|Fedu|   Mjob|    Fjob|reason|guardian|traveltime|studytime|failures|schoolsup|famsup|paid|activities|nursery|higher|internet|romantic|famrel|freetime|goout|Dalc|Walc|health|absences|passed|\n",
            "+------+---+---+-------+-------+-------+----+----+-------+--------+------+--------+----------+---------+--------+---------+------+----+----------+-------+------+--------+--------+------+--------+-----+----+----+------+--------+------+\n",
            "|    GP|  F| 18|      U|    GT3|      A|   4|   4|at_home| teacher|course|  mother|         2|        2|       0|      yes|    no|  no|        no|    yes|   yes|      no|      no|     4|       3|    4|   1|   1|     3|       6|    no|\n",
            "|    GP|  F| 17|      U|    GT3|      T|   1|   1|at_home|   other|course|  father|         1|        2|       0|       no|   yes|  no|        no|     no|   yes|     yes|      no|     5|       3|    3|   1|   1|     3|       4|    no|\n",
            "|    GP|  F| 15|      U|    LE3|      T|   1|   1|at_home|   other| other|  mother|         1|        2|       3|      yes|    no| yes|        no|    yes|   yes|     yes|      no|     4|       3|    2|   2|   3|     3|      10|   yes|\n",
            "|    GP|  F| 15|      U|    GT3|      T|   4|   2| health|services|  home|  mother|         1|        3|       0|       no|   yes| yes|       yes|    yes|   yes|     yes|     yes|     3|       2|    2|   1|   1|     5|       2|   yes|\n",
            "|    GP|  F| 16|      U|    GT3|      T|   3|   3|  other|   other|  home|  father|         1|        2|       0|       no|   yes| yes|        no|    yes|   yes|      no|      no|     4|       3|    2|   1|   2|     5|       4|   yes|\n",
            "+------+---+---+-------+-------+-------+----+----+-------+--------+------+--------+----------+---------+--------+---------+------+----+----------+-------+------+--------+--------+------+--------+-----+----+----+------+--------+------+\n",
            "only showing top 5 rows\n",
            "\n"
          ]
        }
      ]
    },
    {
      "cell_type": "code",
      "source": [
        "# Drop rows with missing data\n",
        "df = df.dropna()\n",
        "\n",
        "# Count total rows after cleaning\n",
        "print(\"Total rows after cleaning:\", df.count())\n",
        "\n",
        "# View column names to choose one for analysis\n",
        "print(\"Columns:\", df.columns)\n"
      ],
      "metadata": {
        "colab": {
          "base_uri": "https://localhost:8080/"
        },
        "id": "Sj7rUv8CX-rq",
        "outputId": "4c501f56-ebbe-40bd-9f16-cee1a04470ca"
      },
      "execution_count": 3,
      "outputs": [
        {
          "output_type": "stream",
          "name": "stdout",
          "text": [
            "Total rows after cleaning: 395\n",
            "Columns: ['school', 'sex', 'age', 'address', 'famsize', 'Pstatus', 'Medu', 'Fedu', 'Mjob', 'Fjob', 'reason', 'guardian', 'traveltime', 'studytime', 'failures', 'schoolsup', 'famsup', 'paid', 'activities', 'nursery', 'higher', 'internet', 'romantic', 'famrel', 'freetime', 'goout', 'Dalc', 'Walc', 'health', 'absences', 'passed']\n"
          ]
        }
      ]
    },
    {
      "cell_type": "code",
      "source": [
        "df.groupBy(\"Mjob\").count().orderBy(\"count\", ascending=False).show(5)\n"
      ],
      "metadata": {
        "colab": {
          "base_uri": "https://localhost:8080/"
        },
        "id": "lvJHfG_gZIr6",
        "outputId": "8a9875cd-f906-45f9-9827-1b2a003157b2"
      },
      "execution_count": 4,
      "outputs": [
        {
          "output_type": "stream",
          "name": "stdout",
          "text": [
            "+--------+-----+\n",
            "|    Mjob|count|\n",
            "+--------+-----+\n",
            "|   other|  141|\n",
            "|services|  103|\n",
            "| at_home|   59|\n",
            "| teacher|   58|\n",
            "|  health|   34|\n",
            "+--------+-----+\n",
            "\n"
          ]
        }
      ]
    },
    {
      "cell_type": "markdown",
      "source": [
        "### 📈 Insights:\n",
        "- Total rows after cleaning: 395\n",
        "- Most common mother’s job is shown above.\n",
        "- PySpark was used to handle and analyze student data efficiently.\n"
      ],
      "metadata": {
        "id": "e2WD4yJ_ZPE8"
      }
    }
  ]
}